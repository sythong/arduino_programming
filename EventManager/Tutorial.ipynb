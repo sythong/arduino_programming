{
 "cells": [
  {
   "cell_type": "markdown",
   "metadata": {},
   "source": [
    "# Hướng dẫn lâp trình hướng đối tượng để quản lý các sự kiện\n",
    "\n",
    "## Nội dung \n",
    "- Tìm hiểu về lập trình hướng đối tượng để quản lý sự kiện\n",
    "- Các tạo vitual class để bắt sự kiện\n",
    "\n"
   ]
  },
  {
   "cell_type": "markdown",
   "metadata": {},
   "source": [
    "## Có 3 lớp chính được tạo ra để quản lý  \n",
    "1. EvtManager : Quản lý chung các sự kiện\n",
    "2. EvtContext : Nội dung sự kiện\n",
    "3. EvtLister : Lắng nghe sự kiện\n",
    "\n"
   ]
  }
 ],
 "metadata": {
  "kernelspec": {
   "display_name": "Python 3",
   "language": "python",
   "name": "python3"
  },
  "language_info": {
   "codemirror_mode": {
    "name": "ipython",
    "version": 3
   },
   "file_extension": ".py",
   "mimetype": "text/x-python",
   "name": "python",
   "nbconvert_exporter": "python",
   "pygments_lexer": "ipython3",
   "version": "3.6.6"
  }
 },
 "nbformat": 4,
 "nbformat_minor": 2
}
